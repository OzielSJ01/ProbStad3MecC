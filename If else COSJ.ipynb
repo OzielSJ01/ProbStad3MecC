{
 "cells": [
  {
   "cell_type": "code",
   "execution_count": 34,
   "metadata": {},
   "outputs": [
    {
     "name": "stdout",
     "output_type": "stream",
     "text": [
      "Welcome to the sofware to calculate your final grade\n"
     ]
    },
    {
     "name": "stdin",
     "output_type": "stream",
     "text": [
      "Please entry your name Oziel\n"
     ]
    },
    {
     "name": "stdout",
     "output_type": "stream",
     "text": [
      "Welcome Oziel\n"
     ]
    },
    {
     "name": "stdin",
     "output_type": "stream",
     "text": [
      "Insert your grades of math´s: 80\n",
      "Insert your grades of static´s: 90\n",
      "Insert your grades of electronic´s: 70\n"
     ]
    },
    {
     "name": "stdout",
     "output_type": "stream",
     "text": [
      "Your grades is 80.0\n",
      "Your grade its ok\n",
      "The software self-destroy in 5...4...3...2..1.\n"
     ]
    }
   ],
   "source": [
    "#Carlos Oziel Solis Juárez Mec 3°C\n",
    "print(\"Welcome to the sofware to calculate your final grade\")\n",
    "\n",
    "nam = input(\"Please entry your name\")\n",
    "print (\"Welcome\", nam)\n",
    "math = int(input(\"Insert your grades of math´s:\"))\n",
    "stati = int(input(\"Insert your grades of static´s:\"))\n",
    "electro = int(input(\"Insert your grades of electronic´s:\"))\n",
    "\n",
    "p=(math+stati+electro)/3\n",
    "\n",
    "print(\"Your grades is\", p)\n",
    "\n",
    "if p>=80:\n",
    "    print(\"Your grade its ok\")\n",
    "else:\n",
    "     print(\"Your grades are a thrash man\")\n",
    "    \n"
   ]
  }
 ],
 "metadata": {
  "kernelspec": {
   "display_name": "Python 3",
   "language": "python",
   "name": "python3"
  },
  "language_info": {
   "codemirror_mode": {
    "name": "ipython",
    "version": 3
   },
   "file_extension": ".py",
   "mimetype": "text/x-python",
   "name": "python",
   "nbconvert_exporter": "python",
   "pygments_lexer": "ipython3",
   "version": "3.8.3"
  }
 },
 "nbformat": 4,
 "nbformat_minor": 4
}
